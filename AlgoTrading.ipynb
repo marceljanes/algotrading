{
 "cells": [
  {
   "cell_type": "code",
   "execution_count": 149,
   "metadata": {},
   "outputs": [
    {
     "name": "stdout",
     "output_type": "stream",
     "text": [
      "     Adj Close Adj Close Y Daily Change Perc Change\n",
      "AAPL    143.16      142.92     0.240005    0.167648\n",
      "BAC      30.94       31.16    -0.219999   -0.711051\n",
      "AMZN   3326.13        3294      32.1299    0.965984\n",
      "ARNA     76.36          78        -1.64    -2.14772\n",
      "LUV      45.81       45.62     0.190002    0.414762\n",
      "ACAD     51.61       53.95        -2.34    -4.53401\n",
      "PANW    354.26      360.78     -6.51999    -1.84045\n",
      "AMD      94.71       94.13     0.580002    0.612398\n",
      "MSFT    232.33      229.53          2.8     1.20518\n",
      "GME     147.98       76.79        71.19     48.1079\n"
     ]
    }
   ],
   "source": [
    "import pandas_datareader as pdr\n",
    "\n",
    "import pandas as pd\n",
    "#test3\n",
    "#Test\n",
    "#df.index = pd.to_datetime(df.index, format = '%Y/%m/%D').strftime('%d.%m.%Y')\n",
    "stocks = ['AAPL', 'BAC', 'AMZN', 'ARNA', 'LUV', 'ACAD', 'PANW', 'AMD', 'MSFT', 'GME']\n",
    "\n",
    "\n",
    "def get_data(stocks_list):    \n",
    "    dt = datetime.datetime.today()\n",
    "    day = dt.day\n",
    "    month = dt.month\n",
    "    year = dt.year\n",
    "    df = pd.DataFrame(columns=[\"Adj Close\", \"Adj Close Y\", \"Daily Change\", \"Perc Change\"])\n",
    "\n",
    "    for el in stocks_list:\n",
    "        new_stock = pdr.get_data_yahoo(el, start=datetime.datetime(year, month, 20), end=datetime.datetime(year, month, day))\n",
    "        df.loc[el, \"Adj Close\"] = new_stock[\"Adj Close\"][-1]\n",
    "        df.loc[el, \"Adj Close Y\"] = new_stock[\"Adj Close\"][-2]\n",
    "        df.loc[el, \"Daily Change\"] = (new_stock[\"Adj Close\"][-1]) - (new_stock[\"Adj Close\"][-2])\n",
    "        df.loc[el, \"Perc Change\"] = ( df.loc[el, \"Daily Change\"] /  df.loc[el, \"Adj Close\"] ) * 100\n",
    "    return df\n",
    "\n",
    "    \n",
    "\n",
    "df = get_data(stocks) \n",
    "\n",
    "   \n",
    "print(df)\n",
    "\n",
    "    \n",
    "\n"
   ]
  },
  {
   "cell_type": "code",
   "execution_count": null,
   "metadata": {},
   "outputs": [],
   "source": []
  },
  {
   "cell_type": "code",
   "execution_count": 25,
   "metadata": {
    "scrolled": true
   },
   "outputs": [
    {
     "name": "stdout",
     "output_type": "stream",
     "text": [
      "                               Firm       To Grade From Grade Action\n",
      "Date                                                                \n",
      "2012-03-16 08:19:00  Argus Research            Buy                up\n",
      "2012-03-19 14:00:00  Hilliard Lyons  Long-Term Buy              main\n",
      "2012-03-22 07:03:00  Morgan Stanley     Overweight              main\n",
      "2012-04-03 11:53:00             UBS            Buy              main\n",
      "2012-04-20 06:18:00   Deutsche Bank            Buy              main\n",
      "...                             ...            ...        ...    ...\n",
      "2021-01-27 10:20:58   Piper Sandler     Overweight              main\n",
      "2021-01-27 11:41:41         Wedbush     Outperform              main\n",
      "2021-01-27 13:09:50  Morgan Stanley     Overweight              main\n",
      "2021-01-27 13:45:57   Credit Suisse     Outperform              main\n",
      "2021-01-27 14:23:23   Raymond James     Strong Buy              main\n",
      "\n",
      "[304 rows x 4 columns]\n",
      "[('AAPL', 39.00523560209424), ('AMZN', 44.66501240694789), ('ARNA', 33.33333333333333)]\n"
     ]
    }
   ],
   "source": [
    "import yfinance as yf\n",
    "stocks = ['AAPL', 'BAC', 'AMZN', 'ARNA', 'LUV', 'ACAD', 'PANW', 'AMD', 'MSFT']\n",
    "final_list = []\n",
    "\n",
    "for stock in stocks:\n",
    "    it_stock = yf.Ticker(stock)\n",
    "    buy = 0   \n",
    "    recom = it_stock.recommendations\n",
    "    amount_recom = len(recom)\n",
    "    for i in range(amount_recom):\n",
    "         if recom.iloc[i, 1] == \"Buy\":\n",
    "                buy += 1\n",
    "    total_buy_share = (buy / amount_recom) * 100\n",
    "    if total_buy_share > 30:\n",
    "        \n",
    "        final_list.append((stock, total_buy_share))\n",
    "print(recom)\n",
    "print(final_list)\n",
    "        \n",
    "\n",
    "\n",
    "\n",
    "        "
   ]
  },
  {
   "cell_type": "code",
   "execution_count": 17,
   "metadata": {},
   "outputs": [
    {
     "name": "stdout",
     "output_type": "stream",
     "text": [
      "[(1.0, 'AAPL'), (1.0, 'BAC'), (1.0, 'AMZN'), (1.0, 'ARNA'), (1.0, 'LUV'), (1.0, 'ACAD'), (1.0, 'PANW'), (1.0, 'AMD'), (1.0, 'MSFT')]\n"
     ]
    }
   ],
   "source": [
    "print(final_list)"
   ]
  },
  {
   "cell_type": "code",
   "execution_count": 46,
   "metadata": {},
   "outputs": [
    {
     "name": "stdout",
     "output_type": "stream",
     "text": [
      "{'', 'Long-Term Buy', 'Outperform', 'Sector Perform', 'Accumulate', 'Perform', 'Hold', 'Sell', 'Neutral', 'Strong Buy', 'Equal-weight', 'Equal-Weight', 'Reduce', 'Sector Weight', 'Buy', 'Market Perform', 'Overweight'}\n"
     ]
    }
   ],
   "source": [
    "share = yf.Ticker('AAPL')\n",
    "\n",
    "recom = share.recommendations\n",
    "buy = []\n",
    "for row in range(len(recom)):\n",
    "    buy.append(recom.iloc[row, 2])\n",
    "print(set(buy))\n",
    "\n"
   ]
  },
  {
   "cell_type": "code",
   "execution_count": 63,
   "metadata": {},
   "outputs": [
    {
     "name": "stdout",
     "output_type": "stream",
     "text": [
      "<class 'pandas.core.indexes.datetimes.DatetimeIndex'>\n"
     ]
    },
    {
     "data": {
      "text/html": [
       "<div>\n",
       "<style scoped>\n",
       "    .dataframe tbody tr th:only-of-type {\n",
       "        vertical-align: middle;\n",
       "    }\n",
       "\n",
       "    .dataframe tbody tr th {\n",
       "        vertical-align: top;\n",
       "    }\n",
       "\n",
       "    .dataframe thead th {\n",
       "        text-align: right;\n",
       "    }\n",
       "</style>\n",
       "<table border=\"1\" class=\"dataframe\">\n",
       "  <thead>\n",
       "    <tr style=\"text-align: right;\">\n",
       "      <th></th>\n",
       "      <th>Firm</th>\n",
       "      <th>To Grade</th>\n",
       "      <th>From Grade</th>\n",
       "      <th>Action</th>\n",
       "    </tr>\n",
       "    <tr>\n",
       "      <th>Date</th>\n",
       "      <th></th>\n",
       "      <th></th>\n",
       "      <th></th>\n",
       "      <th></th>\n",
       "    </tr>\n",
       "  </thead>\n",
       "  <tbody>\n",
       "    <tr>\n",
       "      <th>2021-01-05 13:06:48</th>\n",
       "      <td>Credit Suisse</td>\n",
       "      <td>Neutral</td>\n",
       "      <td></td>\n",
       "      <td>main</td>\n",
       "    </tr>\n",
       "    <tr>\n",
       "      <th>2021-01-05 15:31:40</th>\n",
       "      <td>Canaccord Genuity</td>\n",
       "      <td>Buy</td>\n",
       "      <td></td>\n",
       "      <td>main</td>\n",
       "    </tr>\n",
       "    <tr>\n",
       "      <th>2021-01-14 17:55:58</th>\n",
       "      <td>Barclays</td>\n",
       "      <td>Equal-Weight</td>\n",
       "      <td></td>\n",
       "      <td>main</td>\n",
       "    </tr>\n",
       "    <tr>\n",
       "      <th>2021-01-21 13:18:45</th>\n",
       "      <td>Morgan Stanley</td>\n",
       "      <td>Overweight</td>\n",
       "      <td></td>\n",
       "      <td>main</td>\n",
       "    </tr>\n",
       "    <tr>\n",
       "      <th>2021-01-22 16:23:53</th>\n",
       "      <td>Cowen &amp; Co.</td>\n",
       "      <td>Outperform</td>\n",
       "      <td></td>\n",
       "      <td>main</td>\n",
       "    </tr>\n",
       "    <tr>\n",
       "      <th>2021-01-25 11:56:43</th>\n",
       "      <td>Wedbush</td>\n",
       "      <td>Outperform</td>\n",
       "      <td></td>\n",
       "      <td>main</td>\n",
       "    </tr>\n",
       "    <tr>\n",
       "      <th>2021-01-25 12:58:40</th>\n",
       "      <td>Raymond James</td>\n",
       "      <td>Outperform</td>\n",
       "      <td></td>\n",
       "      <td>main</td>\n",
       "    </tr>\n",
       "    <tr>\n",
       "      <th>2021-01-25 16:00:47</th>\n",
       "      <td>Evercore ISI Group</td>\n",
       "      <td>Outperform</td>\n",
       "      <td></td>\n",
       "      <td>main</td>\n",
       "    </tr>\n",
       "    <tr>\n",
       "      <th>2021-01-26 15:36:57</th>\n",
       "      <td>Cascend</td>\n",
       "      <td>Buy</td>\n",
       "      <td></td>\n",
       "      <td>main</td>\n",
       "    </tr>\n",
       "  </tbody>\n",
       "</table>\n",
       "</div>"
      ],
      "text/plain": [
       "                                   Firm      To Grade From Grade Action\n",
       "Date                                                                   \n",
       "2021-01-05 13:06:48       Credit Suisse       Neutral              main\n",
       "2021-01-05 15:31:40   Canaccord Genuity           Buy              main\n",
       "2021-01-14 17:55:58            Barclays  Equal-Weight              main\n",
       "2021-01-21 13:18:45      Morgan Stanley    Overweight              main\n",
       "2021-01-22 16:23:53         Cowen & Co.    Outperform              main\n",
       "2021-01-25 11:56:43             Wedbush    Outperform              main\n",
       "2021-01-25 12:58:40       Raymond James    Outperform              main\n",
       "2021-01-25 16:00:47  Evercore ISI Group    Outperform              main\n",
       "2021-01-26 15:36:57             Cascend           Buy              main"
      ]
     },
     "execution_count": 63,
     "metadata": {},
     "output_type": "execute_result"
    }
   ],
   "source": [
    "share = yf.Ticker('AAPL')\n",
    "import datetime \n",
    "\n",
    "recom = share.recommendations\n",
    "print(type(recom.index))\n",
    "recom.loc['2021-01-01': datetime.datetime.now()]\n",
    "\n",
    "\n"
   ]
  },
  {
   "cell_type": "code",
   "execution_count": 64,
   "metadata": {},
   "outputs": [
    {
     "name": "stdout",
     "output_type": "stream",
     "text": [
      "Buy                  298\n",
      "Outperform           154\n",
      "Overweight           114\n",
      "Neutral               78\n",
      "Hold                  40\n",
      "Market Perform        22\n",
      "Equal-Weight          17\n",
      "Sell                   7\n",
      "Strong Buy             7\n",
      "Sector Perform         4\n",
      "Positive               4\n",
      "Market Outperform      3\n",
      "                       3\n",
      "Sector Weight          2\n",
      "Perform                2\n",
      "Sector Outperform      2\n",
      "Underweight            1\n",
      "Equal-weight           1\n",
      "Underperform           1\n",
      "Long-Term Buy          1\n",
      "Long-term Buy          1\n",
      "Negative               1\n",
      "Reduce                 1\n",
      "Name: To Grade, dtype: int64\n"
     ]
    }
   ],
   "source": [
    "print(recom[\"To Grade\"].value_counts())"
   ]
  },
  {
   "cell_type": "code",
   "execution_count": null,
   "metadata": {},
   "outputs": [],
   "source": []
  },
  {
   "cell_type": "code",
   "execution_count": null,
   "metadata": {},
   "outputs": [],
   "source": []
  }
 ],
 "metadata": {
  "kernelspec": {
   "display_name": "Python 3",
   "language": "python",
   "name": "python3"
  },
  "language_info": {
   "codemirror_mode": {
    "name": "ipython",
    "version": 3
   },
   "file_extension": ".py",
   "mimetype": "text/x-python",
   "name": "python",
   "nbconvert_exporter": "python",
   "pygments_lexer": "ipython3",
   "version": "3.9.1"
  }
 },
 "nbformat": 4,
 "nbformat_minor": 4
}
