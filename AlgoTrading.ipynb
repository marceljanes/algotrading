{
 "cells": [
  {
   "cell_type": "code",
   "execution_count": 149,
   "metadata": {},
   "outputs": [
    {
     "name": "stdout",
     "output_type": "stream",
     "text": [
      "     Adj Close Adj Close Y Daily Change Perc Change\n",
      "AAPL    143.16      142.92     0.240005    0.167648\n",
      "BAC      30.94       31.16    -0.219999   -0.711051\n",
      "AMZN   3326.13        3294      32.1299    0.965984\n",
      "ARNA     76.36          78        -1.64    -2.14772\n",
      "LUV      45.81       45.62     0.190002    0.414762\n",
      "ACAD     51.61       53.95        -2.34    -4.53401\n",
      "PANW    354.26      360.78     -6.51999    -1.84045\n",
      "AMD      94.71       94.13     0.580002    0.612398\n",
      "MSFT    232.33      229.53          2.8     1.20518\n",
      "GME     147.98       76.79        71.19     48.1079\n"
     ]
    }
   ],
   "source": [
    "import pandas_datareader as pdr\n",
    "import datetime \n",
    "import pandas as pd\n",
    "\n",
    "    \n",
    "#df.index = pd.to_datetime(df.index, format = '%Y/%m/%D').strftime('%d.%m.%Y')\n",
    "stocks = ['AAPL', 'BAC', 'AMZN', 'ARNA', 'LUV', 'ACAD', 'PANW', 'AMD', 'MSFT', 'GME']\n",
    "\n",
    "\n",
    "def get_data(stocks_list):    \n",
    "    dt = datetime.datetime.today()\n",
    "    day = dt.day\n",
    "    month = dt.month\n",
    "    year = dt.year\n",
    "    df = pd.DataFrame(columns=[\"Adj Close\", \"Adj Close Y\", \"Daily Change\", \"Perc Change\"])\n",
    "\n",
    "    for el in stocks_list:\n",
    "        new_stock = pdr.get_data_yahoo(el, start=datetime.datetime(year, month, 20), end=datetime.datetime(year, month, day))\n",
    "        df.loc[el, \"Adj Close\"] = new_stock[\"Adj Close\"][-1]\n",
    "        df.loc[el, \"Adj Close Y\"] = new_stock[\"Adj Close\"][-2]\n",
    "        df.loc[el, \"Daily Change\"] = (new_stock[\"Adj Close\"][-1]) - (new_stock[\"Adj Close\"][-2])\n",
    "        df.loc[el, \"Perc Change\"] = ( df.loc[el, \"Daily Change\"] /  df.loc[el, \"Adj Close\"] ) * 100\n",
    "    return df\n",
    "\n",
    "    \n",
    "\n",
    "df = get_data(stocks) \n",
    "\n",
    "   \n",
    "print(df)\n",
    "\n",
    "    \n",
    "\n"
   ]
  },
  {
   "cell_type": "code",
   "execution_count": null,
   "metadata": {},
   "outputs": [],
   "source": []
  },
  {
   "cell_type": "code",
   "execution_count": 85,
   "metadata": {
    "scrolled": true
   },
   "outputs": [],
   "source": [
    "import yfinance as yf\n",
    "stocks = ['AAPL', 'BAC', 'AMZN', 'ARNA', 'LUV', 'ACAD', 'PANW', 'AMD', 'MSFT']\n",
    "msft = yf.Ticker(\"AMZN\")\n",
    "final_list = []\n",
    "\n",
    "for stock in stocks:\n",
    "    it_stock = yf.Ticker(stock)\n",
    "    if it_stock.info[\"sector\"] == \"Healthcare\":\n",
    "        final_list.append(stock)\n",
    "        \n",
    "\n",
    "\n",
    "\n",
    "        "
   ]
  },
  {
   "cell_type": "code",
   "execution_count": 88,
   "metadata": {},
   "outputs": [
    {
     "name": "stdout",
     "output_type": "stream",
     "text": [
      "     Adj Close Daily Change Perc Change\n",
      "ARNA        78         0.32    0.410256\n",
      "ACAD     53.95         1.12     2.07599\n"
     ]
    }
   ],
   "source": [
    "df_technology = df.loc[final_list]\n",
    "df_technology_2perc = df_technology[df_technology[\"Perc Change\"] > 0]\n",
    "print(df_technology_2perc)"
   ]
  },
  {
   "cell_type": "code",
   "execution_count": 94,
   "metadata": {},
   "outputs": [
    {
     "name": "stdout",
     "output_type": "stream",
     "text": [
      "3180.7532\n"
     ]
    }
   ],
   "source": [
    "amzn = yf.Ticker(\"AMZN\")\n",
    "print(amzn.info[\"twoHundredDayAverage\"])"
   ]
  }
 ],
 "metadata": {
  "kernelspec": {
   "display_name": "Python 3",
   "language": "python",
   "name": "python3"
  },
  "language_info": {
   "codemirror_mode": {
    "name": "ipython",
    "version": 3
   },
   "file_extension": ".py",
   "mimetype": "text/x-python",
   "name": "python",
   "nbconvert_exporter": "python",
   "pygments_lexer": "ipython3",
   "version": "3.7.6"
  }
 },
 "nbformat": 4,
 "nbformat_minor": 4
}
